{
 "cells": [
  {
   "cell_type": "code",
   "execution_count": null,
   "id": "10f34567",
   "metadata": {},
   "outputs": [],
   "source": [
    "## %% [markdown]\n",
    "\n",
    "#### This notebook introduces the basic usage of the exoInfoMatrix class, used to make predictions about the precision of planetary parameters."
   ]
  },
  {
   "cell_type": "code",
   "execution_count": 1,
   "id": "58266aa6",
   "metadata": {},
   "outputs": [
    {
     "name": "stderr",
     "output_type": "stream",
     "text": [
      "WARNING (theano.tensor.blas): Using NumPy C-API based implementation for BLAS functions.\n"
     ]
    }
   ],
   "source": [
    "\n",
    "# Import the class and lightkurve\n",
    "from exoInfoMatrix import exoInfoMatrix\n",
    "import lightkurve as lk"
   ]
  },
  {
   "cell_type": "markdown",
   "id": "9b3aea35",
   "metadata": {},
   "source": [
    "\n",
    "### Now, suppose you want to make predictions for "
   ]
  }
 ],
 "metadata": {
  "kernelspec": {
   "display_name": "Python 3 (ipykernel)",
   "language": "python",
   "name": "python3"
  },
  "language_info": {
   "codemirror_mode": {
    "name": "ipython",
    "version": 3
   },
   "file_extension": ".py",
   "mimetype": "text/x-python",
   "name": "python",
   "nbconvert_exporter": "python",
   "pygments_lexer": "ipython3",
   "version": "3.10.6"
  }
 },
 "nbformat": 4,
 "nbformat_minor": 5
}
