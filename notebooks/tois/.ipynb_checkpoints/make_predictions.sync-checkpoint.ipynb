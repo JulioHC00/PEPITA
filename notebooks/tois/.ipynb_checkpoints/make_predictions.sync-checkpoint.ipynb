{
 "cells": [
  {
   "cell_type": "code",
   "execution_count": null,
   "id": "7001c765",
   "metadata": {},
   "outputs": [],
   "source": [
    "## Generate predictions for the radius ratio precision of TESS Objects of Interest (TOIs)"
   ]
  },
  {
   "cell_type": "markdown",
   "id": "b6db9f7b",
   "metadata": {},
   "source": [
    "\n",
    "## Load required packages"
   ]
  },
  {
   "cell_type": "code",
   "execution_count": null,
   "id": "ad0e4a37",
   "metadata": {},
   "outputs": [],
   "source": [
    "\n",
    "import pandas as pd\n",
    "import lightkurve as lk\n",
    "import numpy as np\n",
    "from IPython.display import display"
   ]
  },
  {
   "cell_type": "markdown",
   "id": "3a1ed0b8",
   "metadata": {},
   "source": [
    "\n",
    "## Select only planet candidates"
   ]
  },
  {
   "cell_type": "code",
   "execution_count": null,
   "id": "ae91768f",
   "metadata": {},
   "outputs": [],
   "source": [
    "\n",
    "# Read TOIs table from the Nasa Exoplanet Archive (NEA)\n",
    "nea_tois = pd.read_csv(\"nea_tois.csv\", header=90)\n",
    "\n",
    "nea_tois = nea_tois[nea_tois[\"tfopwg_disp\"] == \"PC\"] # Only want planet candidates\n",
    "\n",
    "print(f\"Initial number of PC is {len(df)}\")\n",
    "nea_tois.dropna(axis=0, subset=[\"st_logg\", \"st_rad\"], inplace=True) # Only keep if there are values for stellar logg and stellar radius"
   ]
  }
 ],
 "metadata": {
  "kernelspec": {
   "display_name": "Python 3 (ipykernel)",
   "language": "python",
   "name": "python3"
  },
  "language_info": {
   "codemirror_mode": {
    "name": "ipython",
    "version": 3
   },
   "file_extension": ".py",
   "mimetype": "text/x-python",
   "name": "python",
   "nbconvert_exporter": "python",
   "pygments_lexer": "ipython3",
   "version": "3.10.6"
  }
 },
 "nbformat": 4,
 "nbformat_minor": 5
}
