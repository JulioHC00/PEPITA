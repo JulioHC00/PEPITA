{
 "cells": [
  {
   "cell_type": "markdown",
   "id": "4fd5671c",
   "metadata": {},
   "source": [
    "\n",
    "# Code used to generate plots used in the paper."
   ]
  },
  {
   "cell_type": "markdown",
   "id": "4a7f774a",
   "metadata": {},
   "source": [
    "\n",
    "## Import required packages"
   ]
  },
  {
   "cell_type": "code",
   "execution_count": null,
   "id": "e388762a",
   "metadata": {},
   "outputs": [],
   "source": [
    "\n",
    "import numpy as np\n",
    "import pandas as pd\n",
    "import seaborn as sns\n",
    "import matplotlib.pyplot as plt\n",
    "import matplotlib.patches as pc\n",
    "import lightkurve as lk\n",
    "plt.style.use(\"science\")\n",
    "from pytransit import QuadraticModel\n",
    "from matplotlib.colors import LinearSegmentedColormap\n",
    "import exoplanet as xo\n",
    "from corner import corner\n",
    "import aesara_theano_fallback.tensor as tt\n",
    "import pymc3 as pm\n",
    "import arviz as az\n",
    "from celerite2 import terms, GaussianProcess\n",
    "import matplotlib as mpl\n",
    "mpl.rcParams['path.simplify'] = True\n",
    "COLUMN = 2.83509\n",
    "\n",
    "PURPLE = \"#983558\"\n",
    "ORANGE = \"#ffa600\"\n",
    "BLACK = \"#000035\" "
   ]
  }
 ],
 "metadata": {
  "kernelspec": {
   "display_name": "Python 3 (ipykernel)",
   "language": "python",
   "name": "python3"
  },
  "language_info": {
   "codemirror_mode": {
    "name": "ipython",
    "version": 3
   },
   "file_extension": ".py",
   "mimetype": "text/x-python",
   "name": "python",
   "nbconvert_exporter": "python",
   "pygments_lexer": "ipython3",
   "version": "3.10.6"
  }
 },
 "nbformat": 4,
 "nbformat_minor": 5
}
